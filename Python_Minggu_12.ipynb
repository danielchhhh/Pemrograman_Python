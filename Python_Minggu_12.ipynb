{
  "nbformat": 4,
  "nbformat_minor": 0,
  "metadata": {
    "colab": {
      "name": "Salinan dari Python Minggu 12",
      "provenance": [],
      "include_colab_link": true
    },
    "kernelspec": {
      "name": "python3",
      "display_name": "Python 3"
    }
  },
  "cells": [
    {
      "cell_type": "markdown",
      "metadata": {
        "id": "view-in-github",
        "colab_type": "text"
      },
      "source": [
        "<a href=\"https://colab.research.google.com/github/danielchhhh/Pemrograman_Python/blob/main/Python_Minggu_12.ipynb\" target=\"_parent\"><img src=\"https://colab.research.google.com/assets/colab-badge.svg\" alt=\"Open In Colab\"/></a>"
      ]
    },
    {
      "cell_type": "markdown",
      "metadata": {
        "id": "p2Ode86p60EZ"
      },
      "source": [
        "DANIEL CHRISTIAN|\r\n",
        "1101190008 |\r\n",
        "TT-43-G10 |\r\n",
        "Tugas Minggu 12"
      ]
    },
    {
      "cell_type": "code",
      "metadata": {
        "id": "SpaM-g2ZZ4dG"
      },
      "source": [
        "import numpy as np"
      ],
      "execution_count": 1,
      "outputs": []
    },
    {
      "cell_type": "code",
      "metadata": {
        "colab": {
          "base_uri": "https://localhost:8080/"
        },
        "id": "1OmGaaeCbpNN",
        "outputId": "5d3638ad-2762-48af-82e2-d6b36fdda11a"
      },
      "source": [
        "#INPUT DATA YANG AKAN DIGUNAKAN\r\n",
        "d = int(input(\"Jarak Pengirim dan Penerima (km)\\t\\t\\t: \"))\r\n",
        "fc= int(input(\"Frekuensi dalam MHz (range 150-2000)\\t\\t\\t: \"))\r\n",
        "ta = input(\"Tipe area (urban, suburban, atau open)\\t\\t\\t: \")\r\n",
        "ht= int(input(\"Tinggi antena pemancar dalam meter(range 30-200)\\t: \"))\r\n",
        "hg= int(input(\"Tinggi antena penerima dalam meter(range 1-30)\\t\\t: \"))\r\n"
      ],
      "execution_count": 2,
      "outputs": [
        {
          "output_type": "stream",
          "text": [
            "Jarak Pengirim dan Penerima (km)\t\t\t: 5\n",
            "Frekuensi dalam MHz (range 150-2000)\t\t\t: 1000\n",
            "Tipe area (urban, suburban, atau open)\t\t\t: open\n",
            "Tinggi antena pemancar dalam meter(range 30-200)\t: 150\n",
            "Tinggi antena penerima dalam meter(range 1-30)\t\t: 25\n"
          ],
          "name": "stdout"
        }
      ]
    },
    {
      "cell_type": "code",
      "metadata": {
        "id": "lf1VrkfHkPIw"
      },
      "source": [
        "#KONDISI PERMISALAN FREKUENSI\r\n",
        "if fc < 150 or fc > 2000:\r\n",
        "  print(\"Frekuensi yang anda masukan tidak berada di dalam jangkauan\")\r\n",
        "  fc = 0"
      ],
      "execution_count": 3,
      "outputs": []
    },
    {
      "cell_type": "code",
      "metadata": {
        "id": "N2dTCdpixfxd"
      },
      "source": [
        "#KONDISI PERMISALAN TIPE AREA\r\n",
        "if ta == \"suburban\":\r\n",
        "  cm = -2*(np.log(fc/28)**2)-5.4\r\n",
        "elif ta == \"urban\":\r\n",
        "  cm = 0\r\n",
        "elif ta == \"open\":\r\n",
        "  cm = -4.78*(np.log(fc))**2+18.33*np.log(fc)-40.94\r\n",
        "else:\r\n",
        "  printf(\"Tipe area yang anda masukkan salah/tidak ada di dalam pilihan\")\r\n",
        "  cm = -9999999"
      ],
      "execution_count": 4,
      "outputs": []
    },
    {
      "cell_type": "code",
      "metadata": {
        "id": "cZ281hnkxnhm"
      },
      "source": [
        "#KONDISI PEMISALAN TINGGI ANTENA PEMANCAR\r\n",
        "if ht < 30 or ht > 200:\r\n",
        "  print(\"Tinggi yang anda masukan tidak berada di dalam jangkauan\")\r\n",
        "  ht = 0\r\n",
        "\r\n",
        "elif hg < 1 or hg > 30:\r\n",
        "  print(\"Tinggi yang anda masukan tidak berada di dalam jangkauan\")\r\n",
        "  ht = 0"
      ],
      "execution_count": 5,
      "outputs": []
    },
    {
      "cell_type": "code",
      "metadata": {
        "id": "VBOmigoyyWYw"
      },
      "source": [
        "#MENGHITUNG C1 dan C2\r\n",
        "if fc >= 400 or fc <= 1500:\r\n",
        "  c1 = 69.55\r\n",
        "  c2 = 26.16\r\n",
        "elif fc > 1500 or fc <= 2000:\r\n",
        "  c1 = 46.3\r\n",
        "  c2 = 33.9\r\n",
        "else:\r\n",
        "  c1 = 0\r\n",
        "  c2 = 0"
      ],
      "execution_count": 6,
      "outputs": []
    },
    {
      "cell_type": "code",
      "metadata": {
        "id": "anrmVaPW0D0c"
      },
      "source": [
        "#MENGHITUNG a(hg)\r\n",
        "ahg = (1.1*np.log(fc)-0.7)*hg - (1.56*np.log(fc)-0.8)"
      ],
      "execution_count": 7,
      "outputs": []
    },
    {
      "cell_type": "code",
      "metadata": {
        "id": "NfEpUtK904Z2"
      },
      "source": [
        "#COST 231 PATHLOSS MODEL\r\n",
        "def pathloss():\r\n",
        "  lp = c1+c2*np.log(fc)-13.83*np.log(ht)-ahg+(44.9-6.55*np.log(ht))*np.log(d)+cm\r\n",
        "  print(\"Pathloss: \",lp,\" dB\")"
      ],
      "execution_count": 8,
      "outputs": []
    },
    {
      "cell_type": "code",
      "metadata": {
        "colab": {
          "base_uri": "https://localhost:8080/"
        },
        "id": "pJNV26lV2_j7",
        "outputId": "cc98fed1-00be-40d6-8eec-98ec0fd3413b"
      },
      "source": [
        "#PROSEDUR PATHLOSS\r\n",
        "pathloss()"
      ],
      "execution_count": 9,
      "outputs": [
        {
          "output_type": "stream",
          "text": [
            "Pathloss:  -104.49332710714998  dB\n"
          ],
          "name": "stdout"
        }
      ]
    }
  ]
}