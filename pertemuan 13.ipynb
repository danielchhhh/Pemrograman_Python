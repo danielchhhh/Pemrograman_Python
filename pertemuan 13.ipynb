{
  "nbformat": 4,
  "nbformat_minor": 0,
  "metadata": {
    "colab": {
      "name": "Salinan dari Python13.ipynb",
      "provenance": [],
      "collapsed_sections": [],
      "include_colab_link": true
    },
    "kernelspec": {
      "name": "python3",
      "display_name": "Python 3"
    }
  },
  "cells": [
    {
      "cell_type": "markdown",
      "metadata": {
        "id": "view-in-github",
        "colab_type": "text"
      },
      "source": [
        "<a href=\"https://colab.research.google.com/github/danielchhhh/Pemrograman_Python/blob/main/pertemuan%2013.ipynb\" target=\"_parent\"><img src=\"https://colab.research.google.com/assets/colab-badge.svg\" alt=\"Open In Colab\"/></a>"
      ]
    },
    {
      "cell_type": "markdown",
      "metadata": {
        "id": "YTFnzitTlH7k"
      },
      "source": [
        "Tugas Pyhton Minggu 13 | Daniel Christian | 1101190008 | "
      ]
    },
    {
      "cell_type": "code",
      "metadata": {
        "id": "W6R7j0xxXiBC"
      },
      "source": [
        "import numpy as np\r\n",
        "import matplotlib.pyplot as plt\r\n"
      ],
      "execution_count": 17,
      "outputs": []
    },
    {
      "cell_type": "code",
      "metadata": {
        "id": "jE5fU82mXmhn"
      },
      "source": [
        "def cos(frek,tipe,ht,hr,d):\r\n",
        "  #frek = frekuensi (MHz)\r\n",
        "  #tipe = urban, suburban, open\r\n",
        "  #ht = tinggi tower (meter)\r\n",
        "  #hr = tinggi user (meter)\r\n",
        "  #d = jarak (meter)\r\n",
        "    if frek in range(150,1501):\r\n",
        "        Ca=69.55\r\n",
        "        Cb=26.16\r\n",
        "    elif frek in range(1501,2001):\r\n",
        "        Ca=46.3\r\n",
        "        Cb=33.9\r\n",
        "    \r\n",
        "    if tipe=='urban' :\r\n",
        "        Cm=0\r\n",
        "    elif tipe=='suburban' :\r\n",
        "        Cm= -2*((np.log10((frek/28)**2))-5.4)\r\n",
        "    elif tipe=='open' :\r\n",
        "        Cm= -4.78*(np.log10(frek))+18.33*(np.log10(frek))-40.94\r\n",
        "    else :\r\n",
        "        Cm='tipe salah'\r\n",
        "    \r\n",
        "    ahr = (1.1*np.log10(frek)-0.7)*hr-(1.56*np.log10(frek)-1.8)\r\n",
        "    Lp = Ca+(Cb*np.log10(frek))-(13.83*np.log(ht))-ahr+((44.9-6.55*np.log10(ht))*np.log10(d))-Cm\r\n",
        "    \r\n",
        "    return Lp"
      ],
      "execution_count": 18,
      "outputs": []
    },
    {
      "cell_type": "code",
      "metadata": {
        "id": "7Ze0bU-UXmj-"
      },
      "source": [
        "f=1800 #MHz\r\n",
        "loc='urban'\r\n",
        "tower=80 #m\r\n",
        "user=1.5 #m\r\n",
        "dmin=200 #m\r\n",
        "dmax=700 #m\r\n",
        "N=200 #titik\r\n",
        "p=np.random.randint(dmin,dmax,N)\r\n",
        "LpUrban=cos(f,loc,tower,user,p)\r\n"
      ],
      "execution_count": 19,
      "outputs": []
    },
    {
      "cell_type": "code",
      "metadata": {
        "id": "vZ2shE6uXmpV"
      },
      "source": [
        "p_sort=p[np.argsort(p)]\r\n",
        "Urban_sort=LpUrban[np.argsort(p)]"
      ],
      "execution_count": 20,
      "outputs": []
    },
    {
      "cell_type": "code",
      "metadata": {
        "id": "Mq2uXrDsXmml"
      },
      "source": [
        "f=1800 #MHz\r\n",
        "loc='suburban'\r\n",
        "tower=80 #m\r\n",
        "user=1.5 #m\r\n",
        "dmin=200 #m\r\n",
        "dmax=700 #m\r\n",
        "N=200 #titik\r\n",
        "q=np.random.randint(dmin,dmax,N)\r\n",
        "LpSuburban=cos(f,loc,tower,user,q)"
      ],
      "execution_count": 21,
      "outputs": []
    },
    {
      "cell_type": "code",
      "metadata": {
        "id": "0X2XwxgOXmuq"
      },
      "source": [
        "q_sort=q[np.argsort(q)]\r\n",
        "Suburban_sort=LpSuburban[np.argsort(q)]"
      ],
      "execution_count": 22,
      "outputs": []
    },
    {
      "cell_type": "code",
      "metadata": {
        "id": "v3tlBfSXXmxR"
      },
      "source": [
        "f=1800 #MHz\r\n",
        "loc='open'\r\n",
        "tower=80 #m\r\n",
        "user=1.5 #m\r\n",
        "dmin=200 #m\r\n",
        "dmax=700 #m\r\n",
        "N=200 #titik\r\n",
        "s=np.random.randint(dmin,dmax,N)\r\n",
        "LpOpen=cos(f,loc,tower,user,s)"
      ],
      "execution_count": 23,
      "outputs": []
    },
    {
      "cell_type": "code",
      "metadata": {
        "id": "seeZMrwcXmzs"
      },
      "source": [
        "s_sort=s[np.argsort(s)]\r\n",
        "Open_sort=LpOpen[np.argsort(s)]"
      ],
      "execution_count": 24,
      "outputs": []
    },
    {
      "cell_type": "code",
      "metadata": {
        "colab": {
          "base_uri": "https://localhost:8080/",
          "height": 295
        },
        "id": "8f4tqxQvXmsB",
        "outputId": "f1df733f-62c0-4aee-8919-2d43e7a808b0"
      },
      "source": [
        "plt.figure()\r\n",
        "plt.plot(p_sort,Urban_sort,'b',label='Urban')\r\n",
        "plt.plot(q_sort,Suburban_sort,'g',label='Suburban')\r\n",
        "plt.plot(s_sort,Open_sort,'r',label='Open')\r\n",
        "plt.legend()\r\n",
        "plt.title('Frekuensi 1800 MHz')\r\n",
        "plt.xlabel('Jarak (m)')\r\n",
        "plt.ylabel('Path Loss (dB)')\r\n",
        "plt.show()"
      ],
      "execution_count": 25,
      "outputs": [
        {
          "output_type": "display_data",
          "data": {
            "image/png": "[encoded data removed]",
            "text/plain": [
              "<Figure size 432x288 with 1 Axes>"
            ]
          },
          "metadata": {
            "tags": [],
            "needs_background": "light"
          }
        }
      ]
    },
    {
      "cell_type": "code",
      "metadata": {
        "id": "cyghwFvPjWAa"
      },
      "source": [
        "f=700 #MHz\r\n",
        "loc='urban'\r\n",
        "tower=80 #m\r\n",
        "user=1.5 #m\r\n",
        "dmin=200 #m\r\n",
        "dmax=700 #m\r\n",
        "N=200 #titik\r\n",
        "z=np.random.randint(dmin,dmax,N)\r\n",
        "LpUp=cos(f,loc,tower,user,z)"
      ],
      "execution_count": 26,
      "outputs": []
    },
    {
      "cell_type": "code",
      "metadata": {
        "id": "oP5m-4pDjWDR"
      },
      "source": [
        "z_sort=z[np.argsort(z)]\r\n",
        "Pertama_sort=LpUp[np.argsort(z)]"
      ],
      "execution_count": 27,
      "outputs": []
    },
    {
      "cell_type": "code",
      "metadata": {
        "id": "MyqNh6XTjWGI"
      },
      "source": [
        "f=900 #MHz\r\n",
        "loc='urban'\r\n",
        "tower=80 #m\r\n",
        "user=1.5 #m\r\n",
        "dmin=200 #m\r\n",
        "dmax=700 #m\r\n",
        "N=200 #titik\r\n",
        "k=np.random.randint(dmin,dmax,N)\r\n",
        "LpUk=cos(f,loc,tower,user,k)"
      ],
      "execution_count": 28,
      "outputs": []
    },
    {
      "cell_type": "code",
      "metadata": {
        "id": "vS2xJyghjWI9"
      },
      "source": [
        "k_sort=k[np.argsort(k)]\r\n",
        "Kedua_sort=LpUk[np.argsort(k)]"
      ],
      "execution_count": 29,
      "outputs": []
    },
    {
      "cell_type": "code",
      "metadata": {
        "id": "GkG7GdihjWLk"
      },
      "source": [
        "f=1800 #MHz\r\n",
        "loc='urban'\r\n",
        "tower=80 #m\r\n",
        "user=1.5 #m\r\n",
        "dmin=200 #m\r\n",
        "dmax=700 #m\r\n",
        "N=200 #titik\r\n",
        "t=np.random.randint(dmin,dmax,N)\r\n",
        "LpUt=cos(f,loc,tower,user,t)"
      ],
      "execution_count": 30,
      "outputs": []
    },
    {
      "cell_type": "code",
      "metadata": {
        "id": "gLFPuCspjWOQ"
      },
      "source": [
        "t_sort=t[np.argsort(t)]\r\n",
        "Ketiga_sort=LpUt[np.argsort(t)]"
      ],
      "execution_count": 31,
      "outputs": []
    },
    {
      "cell_type": "code",
      "metadata": {
        "colab": {
          "base_uri": "https://localhost:8080/",
          "height": 295
        },
        "id": "smF9mfzHkEHi",
        "outputId": "89845ba7-35f4-433b-bced-d74cb482d2a5"
      },
      "source": [
        "plt.figure()\r\n",
        "plt.plot(z_sort,Pertama_sort,'b',label='700 MHz')\r\n",
        "plt.plot(k_sort,Kedua_sort,'g',label='900 MHz')\r\n",
        "plt.plot(t_sort,Ketiga_sort,'r',label='1800 MHz')\r\n",
        "plt.legend()\r\n",
        "plt.title('Model Urban')\r\n",
        "plt.xlabel('Jarak (m)')\r\n",
        "plt.ylabel('Path Loss (dB)')\r\n",
        "plt.show()"
      ],
      "execution_count": 32,
      "outputs": [
        {
          "output_type": "display_data",
          "data": {
            "image/png": "[encoded data removed]",
            "text/plain": [
              "<Figure size 432x288 with 1 Axes>"
            ]
          },
          "metadata": {
            "tags": [],
            "needs_background": "light"
          }
        }
      ]
    }
  ]
}